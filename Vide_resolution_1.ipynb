{
  "nbformat": 4,
  "nbformat_minor": 0,
  "metadata": {
    "colab": {
      "provenance": [],
      "collapsed_sections": []
    },
    "kernelspec": {
      "name": "python3",
      "display_name": "Python 3"
    },
    "language_info": {
      "name": "python"
    }
  },
  "cells": [
    {
      "cell_type": "code",
      "source": [
        "!pip install ffmpy\n",
        "!pip install --upgrade moviepy\n",
        "!pip install ffmpeg-python\n",
        "!pip install imageio-ffmpeg\n",
        "!pip install imageio.plugins.ffmpeg.download()\n",
        "!pip install --user requests"
      ],
      "metadata": {
        "colab": {
          "base_uri": "https://localhost:8080/"
        },
        "id": "qcD5aTGk1VbH",
        "outputId": "8d4eaa10-a05a-49bb-f326-cc1ce93e0d21"
      },
      "execution_count": 1,
      "outputs": [
        {
          "output_type": "stream",
          "name": "stdout",
          "text": [
            "Looking in indexes: https://pypi.org/simple, https://us-python.pkg.dev/colab-wheels/public/simple/\n",
            "Collecting ffmpy\n",
            "  Downloading ffmpy-0.3.0.tar.gz (4.8 kB)\n",
            "Building wheels for collected packages: ffmpy\n",
            "  Building wheel for ffmpy (setup.py) ... \u001b[?25l\u001b[?25hdone\n",
            "  Created wheel for ffmpy: filename=ffmpy-0.3.0-py3-none-any.whl size=4712 sha256=433a16bdf7ba846383f9cca7d38903c5ebcee40cbedc01d5d4b154c1a4efb1f5\n",
            "  Stored in directory: /root/.cache/pip/wheels/13/e4/6c/e8059816e86796a597c6e6b0d4c880630f51a1fcfa0befd5e6\n",
            "Successfully built ffmpy\n",
            "Installing collected packages: ffmpy\n",
            "Successfully installed ffmpy-0.3.0\n",
            "Looking in indexes: https://pypi.org/simple, https://us-python.pkg.dev/colab-wheels/public/simple/\n",
            "Requirement already satisfied: moviepy in /usr/local/lib/python3.7/dist-packages (0.2.3.5)\n",
            "Collecting moviepy\n",
            "  Downloading moviepy-1.0.3.tar.gz (388 kB)\n",
            "\u001b[K     |████████████████████████████████| 388 kB 8.6 MB/s \n",
            "\u001b[?25hRequirement already satisfied: decorator<5.0,>=4.0.2 in /usr/local/lib/python3.7/dist-packages (from moviepy) (4.4.2)\n",
            "Requirement already satisfied: tqdm<5.0,>=4.11.2 in /usr/local/lib/python3.7/dist-packages (from moviepy) (4.64.1)\n",
            "Requirement already satisfied: requests<3.0,>=2.8.1 in /usr/local/lib/python3.7/dist-packages (from moviepy) (2.23.0)\n",
            "Collecting proglog<=1.0.0\n",
            "  Downloading proglog-0.1.10-py3-none-any.whl (6.1 kB)\n",
            "Requirement already satisfied: numpy>=1.17.3 in /usr/local/lib/python3.7/dist-packages (from moviepy) (1.21.6)\n",
            "Requirement already satisfied: imageio<3.0,>=2.5 in /usr/local/lib/python3.7/dist-packages (from moviepy) (2.9.0)\n",
            "Collecting imageio_ffmpeg>=0.2.0\n",
            "  Downloading imageio_ffmpeg-0.4.7-py3-none-manylinux2010_x86_64.whl (26.9 MB)\n",
            "\u001b[K     |████████████████████████████████| 26.9 MB 1.7 MB/s \n",
            "\u001b[?25hRequirement already satisfied: pillow in /usr/local/lib/python3.7/dist-packages (from imageio<3.0,>=2.5->moviepy) (7.1.2)\n",
            "Requirement already satisfied: urllib3!=1.25.0,!=1.25.1,<1.26,>=1.21.1 in /usr/local/lib/python3.7/dist-packages (from requests<3.0,>=2.8.1->moviepy) (1.24.3)\n",
            "Requirement already satisfied: certifi>=2017.4.17 in /usr/local/lib/python3.7/dist-packages (from requests<3.0,>=2.8.1->moviepy) (2022.6.15)\n",
            "Requirement already satisfied: idna<3,>=2.5 in /usr/local/lib/python3.7/dist-packages (from requests<3.0,>=2.8.1->moviepy) (2.10)\n",
            "Requirement already satisfied: chardet<4,>=3.0.2 in /usr/local/lib/python3.7/dist-packages (from requests<3.0,>=2.8.1->moviepy) (3.0.4)\n",
            "Building wheels for collected packages: moviepy\n",
            "  Building wheel for moviepy (setup.py) ... \u001b[?25l\u001b[?25hdone\n",
            "  Created wheel for moviepy: filename=moviepy-1.0.3-py3-none-any.whl size=110743 sha256=fab4d2ab9d9f90c48b9a13994f9b09c9161318e7534f69f81060d79a456bb4e9\n",
            "  Stored in directory: /root/.cache/pip/wheels/56/dc/2b/9cd600d483c04af3353d66623056fc03faed76b7518faae4df\n",
            "Successfully built moviepy\n",
            "Installing collected packages: proglog, imageio-ffmpeg, moviepy\n",
            "  Attempting uninstall: moviepy\n",
            "    Found existing installation: moviepy 0.2.3.5\n",
            "    Uninstalling moviepy-0.2.3.5:\n",
            "      Successfully uninstalled moviepy-0.2.3.5\n",
            "Successfully installed imageio-ffmpeg-0.4.7 moviepy-1.0.3 proglog-0.1.10\n",
            "Looking in indexes: https://pypi.org/simple, https://us-python.pkg.dev/colab-wheels/public/simple/\n",
            "Collecting ffmpeg-python\n",
            "  Downloading ffmpeg_python-0.2.0-py3-none-any.whl (25 kB)\n",
            "Requirement already satisfied: future in /usr/local/lib/python3.7/dist-packages (from ffmpeg-python) (0.16.0)\n",
            "Installing collected packages: ffmpeg-python\n",
            "Successfully installed ffmpeg-python-0.2.0\n",
            "Looking in indexes: https://pypi.org/simple, https://us-python.pkg.dev/colab-wheels/public/simple/\n",
            "Requirement already satisfied: imageio-ffmpeg in /usr/local/lib/python3.7/dist-packages (0.4.7)\n",
            "/bin/bash: -c: line 0: syntax error near unexpected token `('\n",
            "/bin/bash: -c: line 0: `pip install imageio.plugins.ffmpeg.download()'\n",
            "Looking in indexes: https://pypi.org/simple, https://us-python.pkg.dev/colab-wheels/public/simple/\n",
            "Requirement already satisfied: requests in /usr/local/lib/python3.7/dist-packages (2.23.0)\n",
            "Requirement already satisfied: certifi>=2017.4.17 in /usr/local/lib/python3.7/dist-packages (from requests) (2022.6.15)\n",
            "Requirement already satisfied: chardet<4,>=3.0.2 in /usr/local/lib/python3.7/dist-packages (from requests) (3.0.4)\n",
            "Requirement already satisfied: idna<3,>=2.5 in /usr/local/lib/python3.7/dist-packages (from requests) (2.10)\n",
            "Requirement already satisfied: urllib3!=1.25.0,!=1.25.1,<1.26,>=1.21.1 in /usr/local/lib/python3.7/dist-packages (from requests) (1.24.3)\n"
          ]
        }
      ]
    },
    {
      "cell_type": "code",
      "source": [
        "import ffmpeg\n",
        "import os\n",
        "import subprocess\n",
        "import ffmpeg\n",
        "import sys\n",
        "from moviepy.editor import VideoFileClip\n",
        "from moviepy.editor import *\n",
        "from moviepy import *"
      ],
      "metadata": {
        "id": "VLPKO_d99giU"
      },
      "execution_count": 7,
      "outputs": []
    },
    {
      "cell_type": "code",
      "source": [
        "video_clip = VideoFileClip('/content/Tom-And-Jerry-Friendship-Full-Screen-Status-Video.mp4')\n",
        "video_clip.resize((640,360))\n",
        "resized = video_clip.resize(width=360)\n",
        "\n",
        "video_path = os.path.join('output-1.mp4')\n",
        "resized.write_videofile(video_path, temp_audiofile='output-1.m4a', remove_temp=True, codec=\"libx264\", audio_codec=\"aac\")"
      ],
      "metadata": {
        "colab": {
          "base_uri": "https://localhost:8080/"
        },
        "id": "wH2qkd46O8p8",
        "outputId": "b1b88032-d252-4a82-e697-d3138ba9ce69"
      },
      "execution_count": 3,
      "outputs": [
        {
          "output_type": "stream",
          "name": "stdout",
          "text": [
            "Moviepy - Building video output-1.mp4.\n",
            "MoviePy - Writing audio in output-1.m4a\n"
          ]
        },
        {
          "output_type": "stream",
          "name": "stderr",
          "text": []
        },
        {
          "output_type": "stream",
          "name": "stdout",
          "text": [
            "MoviePy - Done.\n",
            "Moviepy - Writing video output-1.mp4\n",
            "\n"
          ]
        },
        {
          "output_type": "stream",
          "name": "stderr",
          "text": [
            "t: 100%|█████████▉| 823/827 [00:28<00:00, 14.98it/s, now=None]WARNING:py.warnings:/usr/local/lib/python3.7/dist-packages/moviepy/video/io/ffmpeg_reader.py:130: UserWarning: Warning: in file /content/Tom-And-Jerry-Friendship-Full-Screen-Status-Video.mp4, 1613520 bytes wanted but 0 bytes read,at frame 822/827, at time 27.40/27.54 sec. Using the last valid frame instead.\n",
            "  UserWarning)\n",
            "\n",
            "WARNING:py.warnings:/usr/local/lib/python3.7/dist-packages/moviepy/video/io/ffmpeg_reader.py:130: UserWarning: Warning: in file /content/Tom-And-Jerry-Friendship-Full-Screen-Status-Video.mp4, 1613520 bytes wanted but 0 bytes read,at frame 823/827, at time 27.43/27.54 sec. Using the last valid frame instead.\n",
            "  UserWarning)\n",
            "\n",
            "WARNING:py.warnings:/usr/local/lib/python3.7/dist-packages/moviepy/video/io/ffmpeg_reader.py:130: UserWarning: Warning: in file /content/Tom-And-Jerry-Friendship-Full-Screen-Status-Video.mp4, 1613520 bytes wanted but 0 bytes read,at frame 824/827, at time 27.47/27.54 sec. Using the last valid frame instead.\n",
            "  UserWarning)\n",
            "\n",
            "t: 100%|█████████▉| 826/827 [00:28<00:00, 17.12it/s, now=None]WARNING:py.warnings:/usr/local/lib/python3.7/dist-packages/moviepy/video/io/ffmpeg_reader.py:130: UserWarning: Warning: in file /content/Tom-And-Jerry-Friendship-Full-Screen-Status-Video.mp4, 1613520 bytes wanted but 0 bytes read,at frame 825/827, at time 27.50/27.54 sec. Using the last valid frame instead.\n",
            "  UserWarning)\n",
            "\n",
            "WARNING:py.warnings:/usr/local/lib/python3.7/dist-packages/moviepy/video/io/ffmpeg_reader.py:130: UserWarning: Warning: in file /content/Tom-And-Jerry-Friendship-Full-Screen-Status-Video.mp4, 1613520 bytes wanted but 0 bytes read,at frame 826/827, at time 27.53/27.54 sec. Using the last valid frame instead.\n",
            "  UserWarning)\n",
            "\n"
          ]
        },
        {
          "output_type": "stream",
          "name": "stdout",
          "text": [
            "Moviepy - Done !\n",
            "Moviepy - video ready output-1.mp4\n"
          ]
        }
      ]
    },
    {
      "cell_type": "code",
      "source": [
        "trim = VideoFileClip(\"/content/Tom-And-Jerry-Friendship-Full-Screen-Status-Video.mp4\").subclip(15, 25)\n",
        "video_path = os.path.join('trim-video.mp4')\n",
        "trim.write_videofile(video_path, temp_audiofile='output-1.m4a', remove_temp=True, codec=\"libx264\", audio_codec=\"aac\")"
      ],
      "metadata": {
        "colab": {
          "base_uri": "https://localhost:8080/"
        },
        "id": "7iaFdCVCXQZ9",
        "outputId": "444b3ec3-7fb2-490d-b0f2-b4a08aa1fcaa"
      },
      "execution_count": 5,
      "outputs": [
        {
          "output_type": "stream",
          "name": "stdout",
          "text": [
            "Moviepy - Building video trim-video.mp4.\n",
            "MoviePy - Writing audio in output-1.m4a\n"
          ]
        },
        {
          "output_type": "stream",
          "name": "stderr",
          "text": []
        },
        {
          "output_type": "stream",
          "name": "stdout",
          "text": [
            "MoviePy - Done.\n",
            "Moviepy - Writing video trim-video.mp4\n",
            "\n"
          ]
        },
        {
          "output_type": "stream",
          "name": "stderr",
          "text": []
        },
        {
          "output_type": "stream",
          "name": "stdout",
          "text": [
            "Moviepy - Done !\n",
            "Moviepy - video ready trim-video.mp4\n"
          ]
        }
      ]
    },
    {
      "cell_type": "code",
      "source": [
        "clip = VideoFileClip(\"/content/videoplayback.mp4\")\n",
        "#Adding effects\n",
        "clip1 = (VideoFileClip(\"/content/videoplayback.mp4\").subclip(10, 20)\n",
        "    .fx(vfx.colorx, 0.7))\n",
        "clip = (VideoFileClip(\"/content/videoplayback.mp4\").subclip(10, 20)\n",
        "        .fx(vfx.colorx, 1.2)  # 20% brighter\n",
        "        .fx(vfx.lum_contrast, 0, 40, 127))  # and increase the contrast\n",
        "clip1.write_videofile(\"output_3.mp4\")"
      ],
      "metadata": {
        "colab": {
          "base_uri": "https://localhost:8080/"
        },
        "id": "AYkzbbgleVHm",
        "outputId": "20fcfc4b-029c-48ab-d0f6-80976de99994"
      },
      "execution_count": 22,
      "outputs": [
        {
          "output_type": "stream",
          "name": "stdout",
          "text": [
            "Moviepy - Building video output_3.mp4.\n",
            "MoviePy - Writing audio in output_3TEMP_MPY_wvf_snd.mp3\n"
          ]
        },
        {
          "output_type": "stream",
          "name": "stderr",
          "text": []
        },
        {
          "output_type": "stream",
          "name": "stdout",
          "text": [
            "MoviePy - Done.\n",
            "Moviepy - Writing video output_3.mp4\n",
            "\n"
          ]
        },
        {
          "output_type": "stream",
          "name": "stderr",
          "text": []
        },
        {
          "output_type": "stream",
          "name": "stdout",
          "text": [
            "Moviepy - Done !\n",
            "Moviepy - video ready output_3.mp4\n"
          ]
        }
      ]
    }
  ]
}